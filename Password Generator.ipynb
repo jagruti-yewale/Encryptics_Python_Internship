{
 "cells": [
  {
   "cell_type": "markdown",
   "id": "0a3a26dd",
   "metadata": {},
   "source": [
    "# Random Password Generator"
   ]
  },
  {
   "cell_type": "code",
   "execution_count": 2,
   "id": "9a3c9039",
   "metadata": {},
   "outputs": [],
   "source": [
    "import random"
   ]
  },
  {
   "cell_type": "code",
   "execution_count": 4,
   "id": "c12b8664",
   "metadata": {},
   "outputs": [
    {
     "name": "stdout",
     "output_type": "stream",
     "text": [
      "Enter the length of password: 10\n",
      "your password is {'*uTwtMWC&e'}\n"
     ]
    }
   ],
   "source": [
    "password = \"ABCDEFGHIJKLMNOPQRSTUVWXYZabcdefghijklmnopqrstuvwxyz1234567890!@#$%^&*()_+=\"\",./?\\|''\"\n",
    "length_pass=int(input(\"Enter the length of password: \"))\n",
    "a=\"\".join(random.sample(password,length_pass))\n",
    "print(\"your password is\", {a})"
   ]
  },
  {
   "cell_type": "markdown",
   "id": "68ff2609",
   "metadata": {},
   "source": [
    "# (2nd method)"
   ]
  },
  {
   "cell_type": "code",
   "execution_count": 9,
   "id": "750b5efe",
   "metadata": {},
   "outputs": [],
   "source": [
    "import string\n",
    "import random"
   ]
  },
  {
   "cell_type": "code",
   "execution_count": null,
   "id": "ea476b08",
   "metadata": {},
   "outputs": [],
   "source": [
    "length = int(input(\"Enter the length of password: \"))\n",
    "print('''Choose character set for password from these: \n",
    "      1.Digit\n",
    "      2.Letters\n",
    "      3.Special character\n",
    "      4.Exist''')\n",
    "characterlist = \" \"\n",
    "#getting character set for password\n",
    "while(True):\n",
    "      choice = int(input(\"Pick a number \"))\n",
    "      if(choice ==1):\n",
    "          characterlist += string.digits\n",
    "      elif(choice ==2):\n",
    "          characterlist += string.ascii_letters\n",
    "      elif(choice ==3):\n",
    "          characterlist += string.punctuation\n",
    "      elif(choice ==4):\n",
    "          break\n",
    "      else:\n",
    "          print(\"please a valid option !\")\n",
    "\n",
    "password = []\n",
    "\n",
    "for i in range(length):\n",
    "      randomchar = random.choice(characterlist)\n",
    "      password.append(randomchar)\n",
    "print(\"the random password is \" + \"\".join(password))"
   ]
  }
 ],
 "metadata": {
  "kernelspec": {
   "display_name": "Python 3 (ipykernel)",
   "language": "python",
   "name": "python3"
  },
  "language_info": {
   "codemirror_mode": {
    "name": "ipython",
    "version": 3
   },
   "file_extension": ".py",
   "mimetype": "text/x-python",
   "name": "python",
   "nbconvert_exporter": "python",
   "pygments_lexer": "ipython3",
   "version": "3.11.4"
  }
 },
 "nbformat": 4,
 "nbformat_minor": 5
}
